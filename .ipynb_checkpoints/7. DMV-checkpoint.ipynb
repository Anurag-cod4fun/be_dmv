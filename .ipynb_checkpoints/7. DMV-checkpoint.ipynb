{
 "cells": [
  {
   "cell_type": "code",
   "execution_count": 1,
   "metadata": {
    "executionInfo": {
     "elapsed": 598,
     "status": "ok",
     "timestamp": 1697003041399,
     "user": {
      "displayName": "Krishna Siddharth Suresh",
      "userId": "12357007822626731165"
     },
     "user_tz": -330
    },
    "id": "cRGboPBtpgHA"
   },
   "outputs": [],
   "source": [
    "import pandas as pd\n",
    "import tensorflow as tf\n",
    "import numpy as np"
   ]
  },
  {
   "cell_type": "code",
   "execution_count": 2,
   "metadata": {
    "executionInfo": {
     "elapsed": 1895,
     "status": "ok",
     "timestamp": 1697003044102,
     "user": {
      "displayName": "Krishna Siddharth Suresh",
      "userId": "12357007822626731165"
     },
     "user_tz": -330
    },
    "id": "fN39rgzNyPQF"
   },
   "outputs": [
    {
     "ename": "FileNotFoundError",
     "evalue": "[Errno 2] No such file or directory: 'sales_data_sample.xlsx'",
     "output_type": "error",
     "traceback": [
      "\u001b[1;31m---------------------------------------------------------------------------\u001b[0m",
      "\u001b[1;31mFileNotFoundError\u001b[0m                         Traceback (most recent call last)",
      "Cell \u001b[1;32mIn[2], line 3\u001b[0m\n\u001b[0;32m      1\u001b[0m \u001b[38;5;66;03m#Creating dataframes\u001b[39;00m\n\u001b[0;32m      2\u001b[0m dfcsv \u001b[38;5;241m=\u001b[39m pd\u001b[38;5;241m.\u001b[39mread_csv(\u001b[38;5;124m'\u001b[39m\u001b[38;5;124msales_data_sample.csv\u001b[39m\u001b[38;5;124m'\u001b[39m, encoding \u001b[38;5;241m=\u001b[39m \u001b[38;5;124m\"\u001b[39m\u001b[38;5;124mlatin\u001b[39m\u001b[38;5;124m\"\u001b[39m)\n\u001b[1;32m----> 3\u001b[0m dfxlsx  \u001b[38;5;241m=\u001b[39m \u001b[43mpd\u001b[49m\u001b[38;5;241;43m.\u001b[39;49m\u001b[43mread_excel\u001b[49m\u001b[43m(\u001b[49m\u001b[38;5;124;43m'\u001b[39;49m\u001b[38;5;124;43msales_data_sample.xlsx\u001b[39;49m\u001b[38;5;124;43m'\u001b[39;49m\u001b[43m)\u001b[49m\n\u001b[0;32m      4\u001b[0m \u001b[38;5;66;03m# dfjson  = pd.read_json('/content/customers.json', encoding = \"latin\")\u001b[39;00m\n",
      "File \u001b[1;32m~\\AppData\\Local\\Programs\\Python\\Python311\\Lib\\site-packages\\pandas\\io\\excel\\_base.py:478\u001b[0m, in \u001b[0;36mread_excel\u001b[1;34m(io, sheet_name, header, names, index_col, usecols, dtype, engine, converters, true_values, false_values, skiprows, nrows, na_values, keep_default_na, na_filter, verbose, parse_dates, date_parser, date_format, thousands, decimal, comment, skipfooter, storage_options, dtype_backend)\u001b[0m\n\u001b[0;32m    476\u001b[0m \u001b[38;5;28;01mif\u001b[39;00m \u001b[38;5;129;01mnot\u001b[39;00m \u001b[38;5;28misinstance\u001b[39m(io, ExcelFile):\n\u001b[0;32m    477\u001b[0m     should_close \u001b[38;5;241m=\u001b[39m \u001b[38;5;28;01mTrue\u001b[39;00m\n\u001b[1;32m--> 478\u001b[0m     io \u001b[38;5;241m=\u001b[39m \u001b[43mExcelFile\u001b[49m\u001b[43m(\u001b[49m\u001b[43mio\u001b[49m\u001b[43m,\u001b[49m\u001b[43m \u001b[49m\u001b[43mstorage_options\u001b[49m\u001b[38;5;241;43m=\u001b[39;49m\u001b[43mstorage_options\u001b[49m\u001b[43m,\u001b[49m\u001b[43m \u001b[49m\u001b[43mengine\u001b[49m\u001b[38;5;241;43m=\u001b[39;49m\u001b[43mengine\u001b[49m\u001b[43m)\u001b[49m\n\u001b[0;32m    479\u001b[0m \u001b[38;5;28;01melif\u001b[39;00m engine \u001b[38;5;129;01mand\u001b[39;00m engine \u001b[38;5;241m!=\u001b[39m io\u001b[38;5;241m.\u001b[39mengine:\n\u001b[0;32m    480\u001b[0m     \u001b[38;5;28;01mraise\u001b[39;00m \u001b[38;5;167;01mValueError\u001b[39;00m(\n\u001b[0;32m    481\u001b[0m         \u001b[38;5;124m\"\u001b[39m\u001b[38;5;124mEngine should not be specified when passing \u001b[39m\u001b[38;5;124m\"\u001b[39m\n\u001b[0;32m    482\u001b[0m         \u001b[38;5;124m\"\u001b[39m\u001b[38;5;124man ExcelFile - ExcelFile already has the engine set\u001b[39m\u001b[38;5;124m\"\u001b[39m\n\u001b[0;32m    483\u001b[0m     )\n",
      "File \u001b[1;32m~\\AppData\\Local\\Programs\\Python\\Python311\\Lib\\site-packages\\pandas\\io\\excel\\_base.py:1496\u001b[0m, in \u001b[0;36mExcelFile.__init__\u001b[1;34m(self, path_or_buffer, engine, storage_options)\u001b[0m\n\u001b[0;32m   1494\u001b[0m     ext \u001b[38;5;241m=\u001b[39m \u001b[38;5;124m\"\u001b[39m\u001b[38;5;124mxls\u001b[39m\u001b[38;5;124m\"\u001b[39m\n\u001b[0;32m   1495\u001b[0m \u001b[38;5;28;01melse\u001b[39;00m:\n\u001b[1;32m-> 1496\u001b[0m     ext \u001b[38;5;241m=\u001b[39m \u001b[43minspect_excel_format\u001b[49m\u001b[43m(\u001b[49m\n\u001b[0;32m   1497\u001b[0m \u001b[43m        \u001b[49m\u001b[43mcontent_or_path\u001b[49m\u001b[38;5;241;43m=\u001b[39;49m\u001b[43mpath_or_buffer\u001b[49m\u001b[43m,\u001b[49m\u001b[43m \u001b[49m\u001b[43mstorage_options\u001b[49m\u001b[38;5;241;43m=\u001b[39;49m\u001b[43mstorage_options\u001b[49m\n\u001b[0;32m   1498\u001b[0m \u001b[43m    \u001b[49m\u001b[43m)\u001b[49m\n\u001b[0;32m   1499\u001b[0m     \u001b[38;5;28;01mif\u001b[39;00m ext \u001b[38;5;129;01mis\u001b[39;00m \u001b[38;5;28;01mNone\u001b[39;00m:\n\u001b[0;32m   1500\u001b[0m         \u001b[38;5;28;01mraise\u001b[39;00m \u001b[38;5;167;01mValueError\u001b[39;00m(\n\u001b[0;32m   1501\u001b[0m             \u001b[38;5;124m\"\u001b[39m\u001b[38;5;124mExcel file format cannot be determined, you must specify \u001b[39m\u001b[38;5;124m\"\u001b[39m\n\u001b[0;32m   1502\u001b[0m             \u001b[38;5;124m\"\u001b[39m\u001b[38;5;124man engine manually.\u001b[39m\u001b[38;5;124m\"\u001b[39m\n\u001b[0;32m   1503\u001b[0m         )\n",
      "File \u001b[1;32m~\\AppData\\Local\\Programs\\Python\\Python311\\Lib\\site-packages\\pandas\\io\\excel\\_base.py:1371\u001b[0m, in \u001b[0;36minspect_excel_format\u001b[1;34m(content_or_path, storage_options)\u001b[0m\n\u001b[0;32m   1368\u001b[0m \u001b[38;5;28;01mif\u001b[39;00m \u001b[38;5;28misinstance\u001b[39m(content_or_path, \u001b[38;5;28mbytes\u001b[39m):\n\u001b[0;32m   1369\u001b[0m     content_or_path \u001b[38;5;241m=\u001b[39m BytesIO(content_or_path)\n\u001b[1;32m-> 1371\u001b[0m \u001b[38;5;28;01mwith\u001b[39;00m \u001b[43mget_handle\u001b[49m\u001b[43m(\u001b[49m\n\u001b[0;32m   1372\u001b[0m \u001b[43m    \u001b[49m\u001b[43mcontent_or_path\u001b[49m\u001b[43m,\u001b[49m\u001b[43m \u001b[49m\u001b[38;5;124;43m\"\u001b[39;49m\u001b[38;5;124;43mrb\u001b[39;49m\u001b[38;5;124;43m\"\u001b[39;49m\u001b[43m,\u001b[49m\u001b[43m \u001b[49m\u001b[43mstorage_options\u001b[49m\u001b[38;5;241;43m=\u001b[39;49m\u001b[43mstorage_options\u001b[49m\u001b[43m,\u001b[49m\u001b[43m \u001b[49m\u001b[43mis_text\u001b[49m\u001b[38;5;241;43m=\u001b[39;49m\u001b[38;5;28;43;01mFalse\u001b[39;49;00m\n\u001b[0;32m   1373\u001b[0m \u001b[43m\u001b[49m\u001b[43m)\u001b[49m \u001b[38;5;28;01mas\u001b[39;00m handle:\n\u001b[0;32m   1374\u001b[0m     stream \u001b[38;5;241m=\u001b[39m handle\u001b[38;5;241m.\u001b[39mhandle\n\u001b[0;32m   1375\u001b[0m     stream\u001b[38;5;241m.\u001b[39mseek(\u001b[38;5;241m0\u001b[39m)\n",
      "File \u001b[1;32m~\\AppData\\Local\\Programs\\Python\\Python311\\Lib\\site-packages\\pandas\\io\\common.py:868\u001b[0m, in \u001b[0;36mget_handle\u001b[1;34m(path_or_buf, mode, encoding, compression, memory_map, is_text, errors, storage_options)\u001b[0m\n\u001b[0;32m    859\u001b[0m         handle \u001b[38;5;241m=\u001b[39m \u001b[38;5;28mopen\u001b[39m(\n\u001b[0;32m    860\u001b[0m             handle,\n\u001b[0;32m    861\u001b[0m             ioargs\u001b[38;5;241m.\u001b[39mmode,\n\u001b[1;32m   (...)\u001b[0m\n\u001b[0;32m    864\u001b[0m             newline\u001b[38;5;241m=\u001b[39m\u001b[38;5;124m\"\u001b[39m\u001b[38;5;124m\"\u001b[39m,\n\u001b[0;32m    865\u001b[0m         )\n\u001b[0;32m    866\u001b[0m     \u001b[38;5;28;01melse\u001b[39;00m:\n\u001b[0;32m    867\u001b[0m         \u001b[38;5;66;03m# Binary mode\u001b[39;00m\n\u001b[1;32m--> 868\u001b[0m         handle \u001b[38;5;241m=\u001b[39m \u001b[38;5;28;43mopen\u001b[39;49m\u001b[43m(\u001b[49m\u001b[43mhandle\u001b[49m\u001b[43m,\u001b[49m\u001b[43m \u001b[49m\u001b[43mioargs\u001b[49m\u001b[38;5;241;43m.\u001b[39;49m\u001b[43mmode\u001b[49m\u001b[43m)\u001b[49m\n\u001b[0;32m    869\u001b[0m     handles\u001b[38;5;241m.\u001b[39mappend(handle)\n\u001b[0;32m    871\u001b[0m \u001b[38;5;66;03m# Convert BytesIO or file objects passed with an encoding\u001b[39;00m\n",
      "\u001b[1;31mFileNotFoundError\u001b[0m: [Errno 2] No such file or directory: 'sales_data_sample.xlsx'"
     ]
    }
   ],
   "source": [
    "#Creating dataframes\n",
    "dfcsv = pd.read_csv('sales_data_sample.csv', encoding = \"latin\")\n",
    "dfxlsx  = pd.read_excel('sales_data_sample.xlsx')\n",
    "# dfjson  = pd.read_json('/content/customers.json', encoding = \"latin\")"
   ]
  },
  {
   "cell_type": "code",
   "execution_count": null,
   "metadata": {
    "colab": {
     "base_uri": "https://localhost:8080/",
     "height": 360
    },
    "executionInfo": {
     "elapsed": 34,
     "status": "ok",
     "timestamp": 1697003044103,
     "user": {
      "displayName": "Krishna Siddharth Suresh",
      "userId": "12357007822626731165"
     },
     "user_tz": -330
    },
    "id": "ieU8afsyzXpg",
    "outputId": "1ef56db1-969f-4c3e-880f-4ff61f3b3bf8"
   },
   "outputs": [],
   "source": [
    "#Printing first 5 rows of dataset\n",
    "dfcsv.head(5)"
   ]
  },
  {
   "cell_type": "code",
   "execution_count": null,
   "metadata": {
    "colab": {
     "base_uri": "https://localhost:8080/"
    },
    "executionInfo": {
     "elapsed": 33,
     "status": "ok",
     "timestamp": 1697003044104,
     "user": {
      "displayName": "Krishna Siddharth Suresh",
      "userId": "12357007822626731165"
     },
     "user_tz": -330
    },
    "id": "7z9mVMMtzqzU",
    "outputId": "5b4d68eb-41e0-449e-8e70-c240a9d544f5"
   },
   "outputs": [],
   "source": [
    "#Shape command to know the rows and columns in dataset\n",
    "dfcsv.shape"
   ]
  },
  {
   "cell_type": "code",
   "execution_count": null,
   "metadata": {
    "colab": {
     "base_uri": "https://localhost:8080/"
    },
    "executionInfo": {
     "elapsed": 29,
     "status": "ok",
     "timestamp": 1697003044104,
     "user": {
      "displayName": "Krishna Siddharth Suresh",
      "userId": "12357007822626731165"
     },
     "user_tz": -330
    },
    "id": "S_k98zfY0nLZ",
    "outputId": "f10cafd3-267e-4093-d342-a448fad45bd9"
   },
   "outputs": [],
   "source": [
    "#prints information about the DataFrame\n",
    "dfcsv.info"
   ]
  },
  {
   "cell_type": "code",
   "execution_count": null,
   "metadata": {
    "colab": {
     "base_uri": "https://localhost:8080/"
    },
    "executionInfo": {
     "elapsed": 27,
     "status": "ok",
     "timestamp": 1697003044105,
     "user": {
      "displayName": "Krishna Siddharth Suresh",
      "userId": "12357007822626731165"
     },
     "user_tz": -330
    },
    "id": "lXTi5AO-1bO4",
    "outputId": "2527fce8-476c-4dbb-bfdc-069e3d4e3ae2"
   },
   "outputs": [],
   "source": [
    "#Checks for NA values in columns\n",
    "dfcsv.isna().sum()"
   ]
  },
  {
   "cell_type": "code",
   "execution_count": null,
   "metadata": {
    "colab": {
     "base_uri": "https://localhost:8080/"
    },
    "executionInfo": {
     "elapsed": 25,
     "status": "ok",
     "timestamp": 1697003044106,
     "user": {
      "displayName": "Krishna Siddharth Suresh",
      "userId": "12357007822626731165"
     },
     "user_tz": -330
    },
    "id": "f_3FZa1B1laR",
    "outputId": "328d59b7-07b3-4b1a-eed3-0992d149ca68"
   },
   "outputs": [],
   "source": [
    "#for calculating some statistical data like percentile, mean and std of the numerical values of the Series or DataFrame\n",
    "dfcsv.describe"
   ]
  },
  {
   "cell_type": "code",
   "execution_count": null,
   "metadata": {
    "executionInfo": {
     "elapsed": 22,
     "status": "ok",
     "timestamp": 1697003044106,
     "user": {
      "displayName": "Krishna Siddharth Suresh",
      "userId": "12357007822626731165"
     },
     "user_tz": -330
    },
    "id": "Gt2fusP41p4Q"
   },
   "outputs": [],
   "source": [
    "#Dropping unnecessary columns\n",
    "dfcsv = dfcsv.drop(['ADDRESSLINE1','ADDRESSLINE2','CITY','STATE','TERRITORY'],axis = 1)"
   ]
  },
  {
   "cell_type": "code",
   "execution_count": null,
   "metadata": {
    "colab": {
     "base_uri": "https://localhost:8080/"
    },
    "executionInfo": {
     "elapsed": 23,
     "status": "ok",
     "timestamp": 1697003044107,
     "user": {
      "displayName": "Krishna Siddharth Suresh",
      "userId": "12357007822626731165"
     },
     "user_tz": -330
    },
    "id": "-UPyUfc420wD",
    "outputId": "f5ce5459-dc6d-43cd-8d71-053bd4438b52"
   },
   "outputs": [],
   "source": [
    "dfcsv.isna().sum()"
   ]
  },
  {
   "cell_type": "code",
   "execution_count": null,
   "metadata": {
    "executionInfo": {
     "elapsed": 20,
     "status": "ok",
     "timestamp": 1697003044108,
     "user": {
      "displayName": "Krishna Siddharth Suresh",
      "userId": "12357007822626731165"
     },
     "user_tz": -330
    },
    "id": "oMlVf7xi3GKl"
   },
   "outputs": [],
   "source": [
    "#Filling all NA values with mode of the POSTALCODE column\n",
    "dfcsv = dfcsv['POSTALCODE'].fillna(dfcsv.POSTALCODE.mode(), inplace=True)"
   ]
  },
  {
   "cell_type": "code",
   "execution_count": null,
   "metadata": {
    "executionInfo": {
     "elapsed": 23,
     "status": "ok",
     "timestamp": 1697003044109,
     "user": {
      "displayName": "Krishna Siddharth Suresh",
      "userId": "12357007822626731165"
     },
     "user_tz": -330
    },
    "id": "T0o5bTN231SO"
   },
   "outputs": [],
   "source": [
    "columns_to_drop = ['ADDRESSLINE1', 'ADDRESSLINE2', 'CITY', 'STATE', 'TERRITORY']\n",
    "\n",
    "# Drop the specified columns\n",
    "dfxlsx = dfxlsx.drop(columns_to_drop, axis=1)"
   ]
  },
  {
   "cell_type": "code",
   "execution_count": null,
   "metadata": {
    "executionInfo": {
     "elapsed": 23,
     "status": "ok",
     "timestamp": 1697003044111,
     "user": {
      "displayName": "Krishna Siddharth Suresh",
      "userId": "12357007822626731165"
     },
     "user_tz": -330
    },
    "id": "6UDaj-4u6dFt"
   },
   "outputs": [],
   "source": [
    "postalcode_mode = dfxlsx['POSTALCODE'].mode()[0]  # [0] is used to get the first mode value\n",
    "\n",
    "# Fill NA values in 'POSTALCODE' with the mode\n",
    "dfxlsx['POSTALCODE'].fillna(postalcode_mode, inplace=True)"
   ]
  },
  {
   "cell_type": "code",
   "execution_count": null,
   "metadata": {
    "colab": {
     "base_uri": "https://localhost:8080/",
     "height": 472
    },
    "executionInfo": {
     "elapsed": 23,
     "status": "ok",
     "timestamp": 1697003044112,
     "user": {
      "displayName": "Krishna Siddharth Suresh",
      "userId": "12357007822626731165"
     },
     "user_tz": -330
    },
    "id": "TClKLMIq7USR",
    "outputId": "2b7159e0-ebd0-46db-f946-784bd7ce0a6d"
   },
   "outputs": [],
   "source": [
    "sns.histplot(x='STATUS', data=dfxlsx)\n",
    "plt.xlabel('Status')  # Set the label for the x-axis\n",
    "plt.ylabel('Count')   # Set the label for the y-axis\n",
    "plt.title('Distribution of STATUS')  # Set the title for the plot\n",
    "\n",
    "plt.show()"
   ]
  },
  {
   "cell_type": "code",
   "execution_count": null,
   "metadata": {
    "colab": {
     "base_uri": "https://localhost:8080/",
     "height": 472
    },
    "executionInfo": {
     "elapsed": 1046,
     "status": "ok",
     "timestamp": 1697003045136,
     "user": {
      "displayName": "Krishna Siddharth Suresh",
      "userId": "12357007822626731165"
     },
     "user_tz": -330
    },
    "id": "X1cdg2P87j7f",
    "outputId": "5efc977b-3539-47e6-b6a2-0200312619fe"
   },
   "outputs": [],
   "source": [
    "# Assuming 'MONTH_ID' is a numeric or categorical column\n",
    "sns.histplot(x='MONTH_ID', data=dfxlsx)\n",
    "plt.xlabel('Month ID')  # Set the label for the x-axis\n",
    "plt.ylabel('Count')     # Set the label for the y-axis\n",
    "plt.title('Distribution of MONTH_ID')  # Set the title for the plot\n",
    "\n",
    "plt.show()"
   ]
  },
  {
   "cell_type": "code",
   "execution_count": null,
   "metadata": {
    "colab": {
     "base_uri": "https://localhost:8080/",
     "height": 472
    },
    "executionInfo": {
     "elapsed": 14,
     "status": "ok",
     "timestamp": 1697003045137,
     "user": {
      "displayName": "Krishna Siddharth Suresh",
      "userId": "12357007822626731165"
     },
     "user_tz": -330
    },
    "id": "rDpnTvFW8AwS",
    "outputId": "09eff3d4-cd6f-4af8-fc4e-cfb17ae3a100"
   },
   "outputs": [],
   "source": [
    "sns.boxplot(x='STATUS', y='MONTH_ID', data=dfxlsx)\n",
    "plt.xlabel('Status')  # Set the label for the x-axis\n",
    "plt.ylabel('Month ID')  # Set the label for the y-axis\n",
    "plt.title('Boxplot of STATUS vs MONTH_ID')  # Set the title for the plot\n",
    "\n",
    "plt.show()"
   ]
  },
  {
   "cell_type": "code",
   "execution_count": null,
   "metadata": {
    "colab": {
     "base_uri": "https://localhost:8080/",
     "height": 550
    },
    "executionInfo": {
     "elapsed": 1214,
     "status": "ok",
     "timestamp": 1697003046339,
     "user": {
      "displayName": "Krishna Siddharth Suresh",
      "userId": "12357007822626731165"
     },
     "user_tz": -330
    },
    "id": "0daXl1qM8XaG",
    "outputId": "25bb00c9-fd41-4e30-e5e5-2261e4eee712"
   },
   "outputs": [],
   "source": [
    "#Plotting Scatterplot\n",
    "sns.scatterplot( x=\"STATUS\", y=\"MONTH_ID\", data=dfxlsx,\n",
    "                hue='COUNTRY', size='YEAR_ID')\n",
    "\n",
    "# Placing Legend outside the Figure\n",
    "plt.legend(bbox_to_anchor=(1, 1), loc=2)\n",
    "\n",
    "plt.show()"
   ]
  },
  {
   "cell_type": "code",
   "execution_count": null,
   "metadata": {
    "colab": {
     "base_uri": "https://localhost:8080/",
     "height": 313
    },
    "executionInfo": {
     "elapsed": 29,
     "status": "ok",
     "timestamp": 1697003046339,
     "user": {
      "displayName": "Krishna Siddharth Suresh",
      "userId": "12357007822626731165"
     },
     "user_tz": -330
    },
    "id": "bw2wgcI981n0",
    "outputId": "f0fce838-ac4a-4cd4-cc1f-e2b055bced9f"
   },
   "outputs": [],
   "source": [
    "#Checking the data only for shipped STATUS\n",
    "data1=dfxlsx[dfxlsx[\"STATUS\"]=='Shipped']\n",
    "data1.head()"
   ]
  },
  {
   "cell_type": "code",
   "execution_count": null,
   "metadata": {
    "colab": {
     "base_uri": "https://localhost:8080/"
    },
    "executionInfo": {
     "elapsed": 27,
     "status": "ok",
     "timestamp": 1697003046339,
     "user": {
      "displayName": "Krishna Siddharth Suresh",
      "userId": "12357007822626731165"
     },
     "user_tz": -330
    },
    "id": "9qlH0-XS-WEq",
    "outputId": "54159b98-7f99-483d-a776-b770db2d3a12"
   },
   "outputs": [],
   "source": [
    "data1.shape"
   ]
  },
  {
   "cell_type": "code",
   "execution_count": null,
   "metadata": {
    "colab": {
     "base_uri": "https://localhost:8080/"
    },
    "executionInfo": {
     "elapsed": 22,
     "status": "ok",
     "timestamp": 1697003046339,
     "user": {
      "displayName": "Krishna Siddharth Suresh",
      "userId": "12357007822626731165"
     },
     "user_tz": -330
    },
    "id": "_EHZxNtX74UW",
    "outputId": "ba03d07e-d9b2-4c11-d8fe-3a185a31d92f"
   },
   "outputs": [],
   "source": [
    "#Calculating sum for sales column\n",
    "sum_sales = dfxlsx['SALES'].sum()\n",
    "print(\"Addition of all sales\",sum_sales)"
   ]
  },
  {
   "cell_type": "code",
   "execution_count": null,
   "metadata": {
    "colab": {
     "base_uri": "https://localhost:8080/"
    },
    "executionInfo": {
     "elapsed": 20,
     "status": "ok",
     "timestamp": 1697003046340,
     "user": {
      "displayName": "Krishna Siddharth Suresh",
      "userId": "12357007822626731165"
     },
     "user_tz": -330
    },
    "id": "XF49SFLxQty7",
    "outputId": "781d7bf3-5745-40b7-cb27-d47f40983347"
   },
   "outputs": [],
   "source": [
    "#Calulating average for sales column\n",
    "sales_avg = dfxlsx['SALES'].mean()\n",
    "print(\"Average of total sales = \",sales_avg)"
   ]
  },
  {
   "cell_type": "code",
   "execution_count": null,
   "metadata": {
    "colab": {
     "base_uri": "https://localhost:8080/",
     "height": 625
    },
    "executionInfo": {
     "elapsed": 17,
     "status": "ok",
     "timestamp": 1697003046340,
     "user": {
      "displayName": "Krishna Siddharth Suresh",
      "userId": "12357007822626731165"
     },
     "user_tz": -330
    },
    "id": "T02OD2HMQvEr",
    "outputId": "59a305c9-e9fc-4047-e9e2-250d2e90b03b"
   },
   "outputs": [],
   "source": [
    "import sklearn\n",
    "import pandas as pd\n",
    "import seaborn as sns\n",
    "\n",
    "# IQR\n",
    "Q1 = np.percentile(dfxlsx['SALES'], 25,\n",
    "\t\t\t\tinterpolation = 'midpoint')\n",
    "\n",
    "Q3 = np.percentile(dfxlsx['SALES'], 75,\n",
    "\t\t\t\tinterpolation = 'midpoint')\n",
    "IQR = Q3 - Q1\n",
    "\n",
    "print(\"Old Shape: \", dfxlsx.shape)\n",
    "\n",
    "# Upper bound\n",
    "upper = np.where(dfxlsx['SALES'] >= (Q3+1.5*IQR))\n",
    "\n",
    "# Lower bound\n",
    "lower = np.where(dfxlsx['SALES'] <= (Q1-1.5*IQR))\n",
    "\n",
    "# Removing the Outliers\n",
    "dfxlsx.drop(upper[0], inplace = True)\n",
    "dfxlsx.drop(lower[0], inplace = True)\n",
    "\n",
    "print(\"New Shape: \", dfxlsx.shape)\n",
    "\n",
    "sns.boxplot(x='SALES', data=dfxlsx)"
   ]
  }
 ],
 "metadata": {
  "colab": {
   "provenance": [
    {
     "file_id": "1oUQRJk5cdKDzinfZC7UBbLGv3epwam5O",
     "timestamp": 1688962227084
    }
   ]
  },
  "kernelspec": {
   "display_name": "Python 3 (ipykernel)",
   "language": "python",
   "name": "python3"
  },
  "language_info": {
   "codemirror_mode": {
    "name": "ipython",
    "version": 3
   },
   "file_extension": ".py",
   "mimetype": "text/x-python",
   "name": "python",
   "nbconvert_exporter": "python",
   "pygments_lexer": "ipython3",
   "version": "3.11.3"
  }
 },
 "nbformat": 4,
 "nbformat_minor": 1
}
